{
 "cells": [
  {
   "cell_type": "markdown",
   "metadata": {},
   "source": [
    "# Julia and DataJoint\n",
    "\n",
    "This notebook is a minimal translation into Julia from the Python tutorial notebook [00-ConnectingToDatabase\n",
    "](../00-ConnectingToDatabase.ipynb)"
   ]
  },
  {
   "cell_type": "markdown",
   "metadata": {},
   "source": [
    "# Welcome to DataJoint Workshop!"
   ]
  },
  {
   "cell_type": "markdown",
   "metadata": {},
   "source": [
    "Congratulations! If you are reading this, then you have successfully opened up your very first workshop notebook!"
   ]
  },
  {
   "cell_type": "markdown",
   "metadata": {},
   "source": [
    "In this notebook, we will:\n",
    "1. learn to import DataJoint package\n",
    "2. connect DataJoint to our workshop database server\n",
    "3. learn how to save your connection configuration\n",
    "4. change your database password to something more secure/memorable and save it into your configuration"
   ]
  },
  {
   "cell_type": "markdown",
   "metadata": {},
   "source": [
    "# Installing client-side DataJoint in Julia\n",
    "\n",
    "We'll assume that you already have access to a DataJoint server. If you need a server, [DataJoint](https://datajoint.io/) offers a free tutorial server that you can hook up to. We'll also assume that you already have [Julia](https://julialang.org) installed.\n",
    "\n",
    "To use DataJoint from within Julia, you need to have the [PyCall.jl](https://gihub.com/PyCall.jl) package installed. If you don't already have it, then run the code in the following cell, either in this Julia notebook, or within a Julia REPL:"
   ]
  },
  {
   "cell_type": "code",
   "execution_count": null,
   "metadata": {},
   "outputs": [],
   "source": [
    "import Pkg\n",
    "Pkg.add(\"PyCall\")"
   ]
  },
  {
   "cell_type": "markdown",
   "metadata": {},
   "source": [
    "### Using pip or pip3 to install Python datajoint\n",
    "\n",
    "In Mac and Windows, PyCall adds its own private Python 3 installation. You'll want the datajoint Python package installed for that Python. Look within your `YOUR_HOME_DIRECTORY/.julia` directory (or wherever your Julia is installed) for an executable called `pip` or `pip3`. (For example, on my Mac, `pip` is found at `/Users/carlos/.julia/conda/3/bin/pip`.) If you're on Linux, then PyCall uses the regular Python installation, and you'll want the regular `pip` or `pip3` binary (`pip3` if you have both). Then run the following **from a terminal** (using `pip` or `pip3` depending on what you found; again, use `pip3` if you found both).\n",
    "\n",
    "`PATH_TO_PIP_EXECUTABLE/pip install datajoint --pre`  \n",
    "\n",
    "In this way, we get the most up-to-date dev version of DataJoint. (Note that in some computers, the command is simply `pip` instead of `pip3` -- either way, what you need is for it to install packages with the Python 3 you are using.)\n",
    "\n",
    "### Windows (and maybe also Mac)\n",
    "\n",
    "As indicated in the instructions [here](https://docs.datajoint.io/python/setup/02-DataJoint-Python-Windows-Install-Guide.html), you also want to install `pydotplus` with the following line:\n",
    "\n",
    "`pip3 install pydotplus`\n",
    "\n",
    "### Mac \n",
    "\n",
    "You also need to install graphviz, which you can do using the [Homebrew installer](https://brew.sh/). Again from the terminal (not within Python):\n",
    "\n",
    "`brew install graphviz`\n",
    "\n",
    "(If that installation doesn't work, note that you might need to first install SVN `brew install svn` before you can install graphviz.)\n",
    "\n",
    "*You're good to go!*  Start up a Julia REPL, or use this Julia Jupyter notebook, and start having fun."
   ]
  },
  {
   "cell_type": "markdown",
   "metadata": {},
   "source": [
    "# First thing first - Importing DataJoint package"
   ]
  },
  {
   "cell_type": "markdown",
   "metadata": {},
   "source": [
    "ok, now that you have \n",
    "* Julia and [PyCall.jl](https://gihub.com/PyCall.jl) installed \n",
    "* DataJoint installed as a Python package, for the same Python that PyCall uses\n",
    "* access to a DataJoint server. If you need a server, [DataJoint](https://datajoint.io/) offers a free tutorial server that you can hook up to.\n",
    "\n",
    "let's get going.\n",
    "\n",
    "The main approach we'll take here for using DataJoint from Julia is going to be to use [PyCall.jl](https://gihub.com/PyCall.jl), which allows interoperability between Python and Julia, to call DataJoint's Python functions from within Julia. \n",
    "\n",
    "So the first thing we do is load up the Julia package `PyCall`. Then, after you've made sure you've copied the directory `DataJoint2Julia` and its contents (on this repo) into your working directory, tell Julia to look for modules that are withing your working directory, and pull in the `DataJoint2Julia` module. "
   ]
  },
  {
   "cell_type": "code",
   "execution_count": null,
   "metadata": {},
   "outputs": [],
   "source": [
    "using PyCall; println(\"... Loaded PyCall\")\n",
    "\n",
    "cd(\"/Users/carlos/Github/datajoint/neuronex_workshop_2018/julia\")  # Insert your own working directory here!\n",
    "\n",
    "push!(LOAD_PATH, \".\")  # Here we're assuming the DataJoin2Julia package is in the working directory\n",
    "using DataJoint2Julia; println(\"... Loaded DataJoint2Julia\")"
   ]
  },
  {
   "cell_type": "markdown",
   "metadata": {},
   "source": [
    "You have now successfully imported the `datajoint` package. The variable `dj` will be instantiated in your workspace. However, `datajoint` is still not connected to a database. We need to **configure the connection information**."
   ]
  },
  {
   "cell_type": "markdown",
   "metadata": {},
   "source": [
    "# Configuring connection to the DataJoint database server"
   ]
  },
  {
   "cell_type": "markdown",
   "metadata": {},
   "source": [
    "Before you can get connected to the database server with DataJoint, you need to make sure that `datajoint` is configured properly. All `datajoint` configs can be found under `dj.config`."
   ]
  },
  {
   "cell_type": "markdown",
   "metadata": {},
   "source": [
    "Let's take a look at what's inside the configuration."
   ]
  },
  {
   "cell_type": "code",
   "execution_count": null,
   "metadata": {},
   "outputs": [],
   "source": [
    "dj.config"
   ]
  },
  {
   "cell_type": "markdown",
   "metadata": {},
   "source": [
    "In particular, take a look at the `database.host`, `database.user`, and `database.password` fields - these fields tell DataJoint:\n",
    "* which database to connect to (`database.host`)\n",
    "* what user name to use (`database.user`), and\n",
    "* the password for the user (`database.password`)"
   ]
  },
  {
   "cell_type": "markdown",
   "metadata": {},
   "source": [
    "Let's fill out the configuration by specifying the datbase, the username, and the password.\n"
   ]
  },
  {
   "cell_type": "code",
   "execution_count": null,
   "metadata": {},
   "outputs": [],
   "source": [
    "dj.config.__setitem__(\"database.host\",     \"YOUR DATAJOINT SERVER HERE, E.G. DATAJOINT.MYUNIVERSITY.EDU\")\n",
    "dj.config.__setitem__(\"database.user\",     \"YOUR DATAJOINT USERNAME HERE\")\n",
    "dj.config.__setitem__(\"database.password\", \"YOUR DATAJOINT PASSWORD HERE\")\n"
   ]
  },
  {
   "cell_type": "markdown",
   "metadata": {},
   "source": [
    "Check that the config now contains your username and password"
   ]
  },
  {
   "cell_type": "code",
   "execution_count": null,
   "metadata": {},
   "outputs": [],
   "source": [
    "dj.config"
   ]
  },
  {
   "cell_type": "markdown",
   "metadata": {},
   "source": [
    "# Testing your connection"
   ]
  },
  {
   "cell_type": "markdown",
   "metadata": {},
   "source": [
    "You can now test your connection configuration by trying to explicitly connect to the database with `dj.conn()` function call."
   ]
  },
  {
   "cell_type": "code",
   "execution_count": null,
   "metadata": {},
   "outputs": [],
   "source": [
    "dj.conn()   # establish the connection"
   ]
  },
  {
   "cell_type": "markdown",
   "metadata": {},
   "source": [
    "Sometimes you need to force a re-connect -- you can force it with the `reset=true` flag:"
   ]
  },
  {
   "cell_type": "code",
   "execution_count": null,
   "metadata": {},
   "outputs": [],
   "source": [
    "dj.conn(reset=true)   # re-establish the connection"
   ]
  },
  {
   "cell_type": "markdown",
   "metadata": {},
   "source": [
    "If the above call returned without an error, then you have successfully established a connection with the database server!"
   ]
  },
  {
   "cell_type": "markdown",
   "metadata": {},
   "source": [
    "# Saving DataJoint configuration across sessions"
   ]
  },
  {
   "cell_type": "markdown",
   "metadata": {},
   "source": [
    "By default, all changes made to the `dj.config` are reset when you reset your Julia session (or, if in a Jupyter notebook, you restart your Julia kernel), and thus you would have to configure the connection every time you start a new Julia kernel.\n",
    "\n",
    "To save yourself the hassle, you can save the current configuration to **a local configuration file**, by default called `dj_local_config.json`. DataJoint will automatically load the configuration file when you import DataJoint the next time."
   ]
  },
  {
   "cell_type": "markdown",
   "metadata": {},
   "source": [
    "To save the current configuration, call the `save_local` method on the `dj.config` object."
   ]
  },
  {
   "cell_type": "code",
   "execution_count": null,
   "metadata": {},
   "outputs": [],
   "source": [
    "# save to local config file\n",
    "dj.config.save_local()"
   ]
  },
  {
   "cell_type": "markdown",
   "metadata": {},
   "source": [
    "Now your configuration is successfully saved into the local configuration file. **Note that your datajoint password can be read in clear text in that file**. So it's not super secure. And you should definitely use a datajoint password that is different to your other passwords. How do you change your datajoint password, you ask?"
   ]
  },
  {
   "cell_type": "markdown",
   "metadata": {},
   "source": [
    "# Changing the password"
   ]
  },
  {
   "cell_type": "markdown",
   "metadata": {},
   "source": [
    "Depending on whether your administrator has set things up so you can manage your own datajoint password, or whether they are separately managed, you may be able to change your datajoint password.\n",
    "\n",
    "If you can change it, and you were given an initial password to connect to the database, then it is recommended that you change this to something that you can remember better, and that for security reasons, is different to your other passwords. In principle, you can do so easily using `dj.set_password` function. "
   ]
  },
  {
   "cell_type": "code",
   "execution_count": null,
   "metadata": {},
   "outputs": [],
   "source": [
    "dj.set_password()"
   ]
  },
  {
   "cell_type": "markdown",
   "metadata": {},
   "source": [
    "If you have successfully updated your database password via DataJoint, then be sure to update and save the configuration with the new password."
   ]
  },
  {
   "cell_type": "code",
   "execution_count": null,
   "metadata": {},
   "outputs": [],
   "source": [
    "dj.config.__setitem__(\"database.password\" \"ENTER YOUR NEW PASSWORD HERE\")\n",
    "\n",
    "# and save it to dj_local_config.json\n",
    "dj.config.save_local()"
   ]
  },
  {
   "cell_type": "markdown",
   "metadata": {},
   "source": [
    "# Final check of your DataJoint configuration"
   ]
  },
  {
   "cell_type": "markdown",
   "metadata": {},
   "source": [
    "To verify that everything is working, go ahead and restart the Jupyter notebook kernel (hit restart icon or go Kernel > Restart). Once restarted, execute the following to verify your connection works. The connection information should now be loaded automatically."
   ]
  },
  {
   "cell_type": "code",
   "execution_count": null,
   "metadata": {},
   "outputs": [],
   "source": [
    "cd(\"/Users/carlos/Github/datajoint/neuronex_workshop_2018/julia\")  # Insert your own working directory here!\n",
    "\n",
    "push!(LOAD_PATH, \".\")\n",
    "using PyCall\n",
    "using DataJoint2Julia\n",
    "\n",
    "dj.conn()  # connect using saved configuration"
   ]
  },
  {
   "cell_type": "markdown",
   "metadata": {},
   "source": [
    "# Summary"
   ]
  },
  {
   "cell_type": "markdown",
   "metadata": {},
   "source": [
    "If all of the above worked, then you are now ready to continue on with the workshop! If you encounter any issues, be sure to let the instructor know and troubleshoot before moving on with the rest of the workshop."
   ]
  }
 ],
 "metadata": {
  "@webio": {
   "lastCommId": null,
   "lastKernelId": null
  },
  "kernelspec": {
   "display_name": "Julia 1.0.5",
   "language": "julia",
   "name": "julia-1.0"
  },
  "language_info": {
   "file_extension": ".jl",
   "mimetype": "application/julia",
   "name": "julia",
   "version": "1.0.5"
  }
 },
 "nbformat": 4,
 "nbformat_minor": 2
}
